{
 "cells": [
  {
   "cell_type": "code",
   "execution_count": 1,
   "id": "a0d8f274",
   "metadata": {},
   "outputs": [
    {
     "name": "stdout",
     "output_type": "stream",
     "text": [
      "twinkle, twinkle, little star,\n",
      "        how i wonder what you are!\n",
      "            up above the world so high,\n",
      "            like a daimond in the sky.\n",
      "twinkle, twinkle, little star,\n",
      "        how i wonder what you are \n"
     ]
    }
   ],
   "source": [
    "print(\"twinkle, twinkle, little star,\")\n",
    "print(\"        how i wonder what you are!\")\n",
    "print(\"            up above the world so high,\")\n",
    "print(\"            like a daimond in the sky.\")\n",
    "print(\"twinkle, twinkle, little star,\")\n",
    "print(\"        how i wonder what you are \")\n"
   ]
  },
  {
   "cell_type": "code",
   "execution_count": 2,
   "id": "069189af",
   "metadata": {},
   "outputs": [
    {
     "name": "stdout",
     "output_type": "stream",
     "text": [
      "python version\n",
      "3.9.7 (default, Sep 16 2021, 16:59:28) [MSC v.1916 64 bit (AMD64)]\n"
     ]
    }
   ],
   "source": [
    "import sys\n",
    "print (\"python version\")\n",
    "print(sys.version )"
   ]
  },
  {
   "cell_type": "code",
   "execution_count": 3,
   "id": "284ee789",
   "metadata": {},
   "outputs": [
    {
     "name": "stdout",
     "output_type": "stream",
     "text": [
      "Date&Time = 2021-12-31 16:36:29.496900\n"
     ]
    }
   ],
   "source": [
    "from datetime import datetime\n",
    "now= datetime.now()\n",
    "print(\"Date&Time =\", now)"
   ]
  },
  {
   "cell_type": "code",
   "execution_count": 4,
   "id": "fd36920c",
   "metadata": {},
   "outputs": [
    {
     "name": "stdout",
     "output_type": "stream",
     "text": [
      "please enter the raduis of the circle:2547\n",
      "area of a circle= 20369836.26\n"
     ]
    }
   ],
   "source": [
    "PI = 3.14\n",
    "r= float(input('please enter the raduis of the circle:'))\n",
    "area = PI*r*r\n",
    "print(\"area of a circle=\", area)"
   ]
  },
  {
   "cell_type": "code",
   "execution_count": 5,
   "id": "0c30c9fa",
   "metadata": {},
   "outputs": [
    {
     "name": "stdout",
     "output_type": "stream",
     "text": [
      "First name:Hira\n",
      "Last name:Motta\n",
      "Motta Hira\n"
     ]
    }
   ],
   "source": [
    "name=input('First name:')\n",
    "lastname=input('Last name:')\n",
    "print(lastname, name)"
   ]
  },
  {
   "cell_type": "code",
   "execution_count": 6,
   "id": "b7bf782f",
   "metadata": {},
   "outputs": [
    {
     "name": "stdout",
     "output_type": "stream",
     "text": [
      "first num =1564\n",
      "second num =5654684\n",
      "sum of two no. = 5656248\n"
     ]
    }
   ],
   "source": [
    "x = int(input('first num ='))\n",
    "y = int(input('second num ='))\n",
    "z = (x + y)\n",
    "print(\"sum of two no. =\",z)\n"
   ]
  },
  {
   "cell_type": "code",
   "execution_count": null,
   "id": "62344065",
   "metadata": {},
   "outputs": [],
   "source": []
  }
 ],
 "metadata": {
  "kernelspec": {
   "display_name": "Python 3 (ipykernel)",
   "language": "python",
   "name": "python3"
  },
  "language_info": {
   "codemirror_mode": {
    "name": "ipython",
    "version": 3
   },
   "file_extension": ".py",
   "mimetype": "text/x-python",
   "name": "python",
   "nbconvert_exporter": "python",
   "pygments_lexer": "ipython3",
   "version": "3.9.7"
  }
 },
 "nbformat": 4,
 "nbformat_minor": 5
}
